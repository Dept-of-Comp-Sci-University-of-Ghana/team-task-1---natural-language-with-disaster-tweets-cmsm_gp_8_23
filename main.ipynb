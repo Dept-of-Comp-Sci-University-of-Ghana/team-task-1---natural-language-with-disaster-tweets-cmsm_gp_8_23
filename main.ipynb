{
 "cells": [
  {
   "cell_type": "markdown",
   "source": [
    "## Importation of Necessary Modules"
   ],
   "metadata": {
    "collapsed": false
   }
  },
  {
   "cell_type": "code",
   "execution_count": null,
   "outputs": [],
   "source": [
    "import pandas as pd\n",
    "from sklearn import model_selection\n",
    "import matplotlib.pyplot as plt\n",
    "import seaborn as sns\n",
    "from sklearn.feature_extraction.text import TfidfVectorizer\n",
    "from sklearn.linear_model import LogisticRegression\n",
    "from sklearn.svm import SVC\n",
    "from sklearn.naive_bayes import MultinomialNB\n",
    "from sklearn.metrics import accuracy_score, precision_score, recall_score, f1_score, confusion_matrix\n",
    "import re\n",
    "import string\n",
    "import nltk\n",
    "from nltk.corpus import stopwords\n",
    "from nltk.stem import WordNetLemmatizer\n",
    "\n",
    "# Download required resources from NLTK\n",
    "nltk.download('wordnet')\n",
    "nltk.download('punkt')\n",
    "nltk.download('stopwords')"
   ],
   "metadata": {
    "collapsed": false
   }
  },
  {
   "cell_type": "markdown",
   "source": [
    "## Loading Data in DataFrame"
   ],
   "metadata": {
    "collapsed": false
   }
  },
  {
   "cell_type": "code",
   "execution_count": 341,
   "metadata": {
    "ExecuteTime": {
     "end_time": "2023-07-10T03:05:26.249366100Z",
     "start_time": "2023-07-10T03:05:26.123260600Z"
    }
   },
   "outputs": [],
   "source": [
    "train_data = pd.read_csv(\"Datasets/train.csv\")"
   ]
  },
  {
   "cell_type": "markdown",
   "source": [
    "## Visualizing Data"
   ],
   "metadata": {
    "collapsed": false
   }
  },
  {
   "cell_type": "code",
   "execution_count": 342,
   "outputs": [
    {
     "data": {
      "text/plain": "<Figure size 400x500 with 1 Axes>",
      "image/png": "[encoded data removed]"
     },
     "metadata": {},
     "output_type": "display_data"
    }
   ],
   "source": [
    "plt.figure(figsize=(4, 5))\n",
    "sns.countplot(x='target', data=train_data)\n",
    "plt.title('Distribution of Target Variable')\n",
    "plt.show()"
   ],
   "metadata": {
    "collapsed": false,
    "ExecuteTime": {
     "end_time": "2023-07-10T03:05:26.387668400Z",
     "start_time": "2023-07-10T03:05:26.186217100Z"
    }
   }
  },
  {
   "cell_type": "markdown",
   "source": [
    "## Preprocessing of Data"
   ],
   "metadata": {
    "collapsed": false
   }
  },
  {
   "cell_type": "code",
   "execution_count": null,
   "outputs": [],
   "source": [
    "train_data[\"text\"] = train_data[\"text\"].str.lower()\n",
    "train_data[\"text\"].sample(5, random_state=42)"
   ],
   "metadata": {
    "collapsed": false
   }
  },
  {
   "cell_type": "code",
   "execution_count": 344,
   "outputs": [],
   "source": [
    "def preprocess_tweet_text(tweet):\n",
    "    # Remove URLs\n",
    "    tweet = re.sub(r'https?://\\S+|www\\.\\S+', '', tweet)\n",
    "\n",
    "    # Remove mentions and hashtags\n",
    "    tweet = re.sub(r'@[A-Za-z0-9_]+|#[A-Za-z0-9_]+', '', tweet)\n",
    "\n",
    "    # Remove punctuation\n",
    "    tweet = tweet.translate(str.maketrans('', '', string.punctuation))\n",
    "\n",
    "    # Tokenization\n",
    "    tokens = tweet.split()\n",
    "\n",
    "    # Remove stopwords\n",
    "    stop_words = set(stopwords.words('english'))\n",
    "    tokens = [word for word in tokens if word.lower() not in stop_words]\n",
    "\n",
    "    # Lemmatization\n",
    "    lemmatizer = WordNetLemmatizer()\n",
    "    tokens = [lemmatizer.lemmatize(word) for word in tokens]\n",
    "\n",
    "    # Join the preprocessed tokens back into a single string\n",
    "    processed_tweet = ' '.join(tokens)\n",
    "\n",
    "    return processed_tweet"
   ],
   "metadata": {
    "collapsed": false,
    "ExecuteTime": {
     "end_time": "2023-07-10T03:05:26.484522800Z",
     "start_time": "2023-07-10T03:05:26.423506900Z"
    }
   }
  },
  {
   "cell_type": "code",
   "execution_count": null,
   "outputs": [],
   "source": [
    "train_data[\"text\"] = train_data[\"text\"].apply(preprocess_tweet_text)\n",
    "train_data.head()"
   ],
   "metadata": {
    "collapsed": false
   }
  },
  {
   "cell_type": "markdown",
   "source": [
    "## Transformation of Data"
   ],
   "metadata": {
    "collapsed": false
   }
  },
  {
   "cell_type": "code",
   "execution_count": 346,
   "metadata": {
    "ExecuteTime": {
     "end_time": "2023-07-10T03:05:30.542749Z",
     "start_time": "2023-07-10T03:05:30.375485500Z"
    }
   },
   "outputs": [],
   "source": [
    "# Training and Testing\n",
    "X = train_data['text']\n",
    "y = train_data['target']\n",
    "\n",
    "\n",
    "X_train, X_test, y_train, y_test = model_selection.train_test_split(X, y, test_size=0.2, random_state=42)\n",
    "\n",
    "# Using TF-IDF vectorizer to convert text into numerical features\n",
    "vectorizer = TfidfVectorizer()\n",
    "X_train_tfidf = vectorizer.fit_transform(X_train)\n",
    "\n",
    "# Transforming test data\n",
    "X_test_tfidf = vectorizer.transform(X_test)"
   ]
  },
  {
   "cell_type": "markdown",
   "source": [
    "## Initializing and Fitting Model Using LogisticRegression and Visualizing Metrics"
   ],
   "metadata": {
    "collapsed": false
   }
  },
  {
   "cell_type": "code",
   "execution_count": 347,
   "outputs": [],
   "source": [
    "#Logistics Regression\n",
    "log_model = LogisticRegression()\n",
    "\n",
    "# Train the model\n",
    "log_model.fit(X_train_tfidf, y_train)\n",
    "\n",
    "# Making predictions on the test set\n",
    "log_predictions = log_model.predict(X_test_tfidf)"
   ],
   "metadata": {
    "collapsed": false,
    "ExecuteTime": {
     "end_time": "2023-07-10T03:05:30.705446900Z",
     "start_time": "2023-07-10T03:05:30.511354800Z"
    }
   }
  },
  {
   "cell_type": "code",
   "execution_count": 348,
   "outputs": [
    {
     "name": "stdout",
     "output_type": "stream",
     "text": [
      "Accuracy (LogisticRegression): 0.7977675640183848\n",
      "Precision (LogisticRegression): 0.8235294117647058\n",
      "Recall (LogisticRegression): 0.6687211093990755\n",
      "f1_score (LogisticRegression): 0.7380952380952381\n"
     ]
    }
   ],
   "source": [
    "log_accuracy = accuracy_score(y_test, log_predictions)\n",
    "log_precision = precision_score(y_test, log_predictions)\n",
    "log_recall = recall_score(y_test, log_predictions)\n",
    "log_f1_score = f1_score(y_test, log_predictions)\n",
    "print(\"Accuracy (LogisticRegression):\", log_accuracy)\n",
    "print(\"Precision (LogisticRegression):\", log_precision)\n",
    "print(\"Recall (LogisticRegression):\", log_recall)\n",
    "print(\"f1_score (LogisticRegression):\", log_f1_score)"
   ],
   "metadata": {
    "collapsed": false,
    "ExecuteTime": {
     "end_time": "2023-07-10T03:05:30.721081800Z",
     "start_time": "2023-07-10T03:05:30.685563400Z"
    }
   }
  },
  {
   "cell_type": "code",
   "execution_count": 349,
   "outputs": [
    {
     "data": {
      "text/plain": "<Figure size 800x600 with 2 Axes>",
      "image/png": "[encoded data removed]"
     },
     "metadata": {},
     "output_type": "display_data"
    }
   ],
   "source": [
    "# Confusion Matrix for LogisticRegression\n",
    "cm = confusion_matrix(y_test, log_predictions)\n",
    "plt.figure(figsize=(8, 6))\n",
    "sns.heatmap(cm, annot=True, cmap='Reds', fmt='d')\n",
    "plt.title('Confusion Matrix LogisticRegression')\n",
    "plt.xlabel('Predicted')\n",
    "plt.ylabel('Actual')\n",
    "plt.show()"
   ],
   "metadata": {
    "collapsed": false,
    "ExecuteTime": {
     "end_time": "2023-07-10T03:05:31.028192200Z",
     "start_time": "2023-07-10T03:05:30.728347900Z"
    }
   }
  },
  {
   "cell_type": "markdown",
   "source": [
    "## Intializing and Fitting Data Using SVC and Visualizing Metrics"
   ],
   "metadata": {
    "collapsed": false
   }
  },
  {
   "cell_type": "code",
   "execution_count": 350,
   "outputs": [],
   "source": [
    "# Initialize the SVC model\n",
    "model = SVC()\n",
    "\n",
    "# Train the model\n",
    "model.fit(X_train_tfidf, y_train)\n",
    "\n",
    "# Make predictions on the test set\n",
    "svc_predictions = model.predict(X_test_tfidf)"
   ],
   "metadata": {
    "collapsed": false,
    "ExecuteTime": {
     "end_time": "2023-07-10T03:05:36.649834500Z",
     "start_time": "2023-07-10T03:05:31.035610300Z"
    }
   }
  },
  {
   "cell_type": "code",
   "execution_count": 351,
   "outputs": [
    {
     "name": "stdout",
     "output_type": "stream",
     "text": [
      "Accuracy (SVC): 0.7951411687458962\n",
      "Precision (SVC): 0.831041257367387\n",
      "Recall (SVC): 0.6517719568567026\n",
      "f1_score (SVC): 0.7305699481865284\n"
     ]
    }
   ],
   "source": [
    "svc_accuracy = accuracy_score(y_test, svc_predictions)\n",
    "svc_precision = precision_score(y_test, svc_predictions)\n",
    "svc_recall = recall_score(y_test, svc_predictions)\n",
    "svc_f1_score = f1_score(y_test, svc_predictions)\n",
    "print(\"Accuracy (SVC):\", svc_accuracy)\n",
    "print(\"Precision (SVC):\", svc_precision)\n",
    "print(\"Recall (SVC):\", svc_recall)\n",
    "print(\"f1_score (SVC):\", svc_f1_score)"
   ],
   "metadata": {
    "collapsed": false,
    "ExecuteTime": {
     "end_time": "2023-07-10T03:05:36.682847900Z",
     "start_time": "2023-07-10T03:05:36.633058500Z"
    }
   }
  },
  {
   "cell_type": "code",
   "execution_count": 352,
   "outputs": [
    {
     "data": {
      "text/plain": "<Figure size 800x600 with 2 Axes>",
      "image/png": "[encoded data removed]"
     },
     "metadata": {},
     "output_type": "display_data"
    }
   ],
   "source": [
    "# Confusion Matrix for SVC\n",
    "cm = confusion_matrix(y_test, svc_predictions)\n",
    "plt.figure(figsize=(8, 6))\n",
    "sns.heatmap(cm, annot=True, cmap='Reds', fmt='d')\n",
    "plt.title('Confusion Matrix SVC')\n",
    "plt.xlabel('Predicted')\n",
    "plt.ylabel('Actual')\n",
    "plt.show()"
   ],
   "metadata": {
    "collapsed": false,
    "ExecuteTime": {
     "end_time": "2023-07-10T03:05:37.045321800Z",
     "start_time": "2023-07-10T03:05:36.671889500Z"
    }
   }
  },
  {
   "cell_type": "markdown",
   "source": [
    "## Intializing and Fitting Data Using MultinomialNB and Visualizing Metrics"
   ],
   "metadata": {
    "collapsed": false
   }
  },
  {
   "cell_type": "code",
   "execution_count": 353,
   "outputs": [],
   "source": [
    "# Train a Multinomial Naive Bayes model\n",
    "nb_model = MultinomialNB()\n",
    "\n",
    "# Train the model\n",
    "nb_model.fit(X_train_tfidf, y_train)\n",
    "\n",
    "# Make predictions on the test set\n",
    "mnb_predictions = model.predict(X_test_tfidf)"
   ],
   "metadata": {
    "collapsed": false,
    "ExecuteTime": {
     "end_time": "2023-07-10T03:05:37.991635400Z",
     "start_time": "2023-07-10T03:05:37.044120800Z"
    }
   }
  },
  {
   "cell_type": "code",
   "execution_count": 354,
   "outputs": [
    {
     "name": "stdout",
     "output_type": "stream",
     "text": [
      "Accuracy (MultinomialNB): 0.7951411687458962\n",
      "Precision (MultinomialNB): 0.831041257367387\n",
      "Recall (MultinomialNB): 0.6517719568567026\n",
      "f1_score (MultinomialNB): 0.7305699481865284\n"
     ]
    }
   ],
   "source": [
    "mnb_accuracy = accuracy_score(y_test, mnb_predictions)\n",
    "mnb_precision = precision_score(y_test, mnb_predictions)\n",
    "mnb_recall = recall_score(y_test, mnb_predictions)\n",
    "mnb_f1_score = f1_score(y_test, mnb_predictions)\n",
    "print(\"Accuracy (MultinomialNB):\", mnb_accuracy)\n",
    "print(\"Precision (MultinomialNB):\", mnb_precision)\n",
    "print(\"Recall (MultinomialNB):\", mnb_recall)\n",
    "print(\"f1_score (MultinomialNB):\", mnb_f1_score)"
   ],
   "metadata": {
    "collapsed": false,
    "ExecuteTime": {
     "end_time": "2023-07-10T03:05:38.022572900Z",
     "start_time": "2023-07-10T03:05:37.976211900Z"
    }
   }
  },
  {
   "cell_type": "code",
   "execution_count": 355,
   "outputs": [
    {
     "data": {
      "text/plain": "<Figure size 800x600 with 2 Axes>",
      "image/png": "[encoded data removed]"
     },
     "metadata": {},
     "output_type": "display_data"
    }
   ],
   "source": [
    "# Confusion Matrix for MultinomialNB\n",
    "cm = confusion_matrix(y_test, mnb_predictions)\n",
    "plt.figure(figsize=(8, 6))\n",
    "sns.heatmap(cm, annot=True, cmap='Reds', fmt='d')\n",
    "plt.title('Confusion Matrix MultinomialNB')\n",
    "plt.xlabel('Predicted')\n",
    "plt.ylabel('Actual')\n",
    "plt.show()\n",
    "\n"
   ],
   "metadata": {
    "collapsed": false,
    "ExecuteTime": {
     "end_time": "2023-07-10T03:05:38.346037Z",
     "start_time": "2023-07-10T03:05:38.007316300Z"
    }
   }
  },
  {
   "cell_type": "markdown",
   "source": [
    "## Final Submission Using LogisticRegression"
   ],
   "metadata": {
    "collapsed": false
   }
  },
  {
   "cell_type": "code",
   "execution_count": 357,
   "outputs": [],
   "source": [
    "test_data = pd.read_csv(\"Datasets/test.csv\")"
   ],
   "metadata": {
    "collapsed": false,
    "ExecuteTime": {
     "end_time": "2023-07-10T03:18:51.501491300Z",
     "start_time": "2023-07-10T03:18:51.446155800Z"
    }
   }
  },
  {
   "cell_type": "code",
   "execution_count": null,
   "outputs": [],
   "source": [
    "test_data[\"text\"] = test_data[\"text\"].apply(preprocess_tweet_text)\n",
    "test_data.head()"
   ],
   "metadata": {
    "collapsed": false
   }
  },
  {
   "cell_type": "code",
   "execution_count": 363,
   "outputs": [],
   "source": [
    "X = test_data['text']\n",
    "X = vectorizer.transform(X)"
   ],
   "metadata": {
    "collapsed": false,
    "ExecuteTime": {
     "end_time": "2023-07-10T03:22:19.780884200Z",
     "start_time": "2023-07-10T03:22:19.717368500Z"
    }
   }
  },
  {
   "cell_type": "code",
   "execution_count": 368,
   "outputs": [],
   "source": [
    "submission_predictions = log_model.predict(X)\n",
    "submission_csv = pd.DataFrame({\"id\": test_data.id, \"target\": submission_predictions}).to_csv(\"submission.csv\", index=False)"
   ],
   "metadata": {
    "collapsed": false,
    "ExecuteTime": {
     "end_time": "2023-07-10T03:24:09.851956Z",
     "start_time": "2023-07-10T03:24:09.804682800Z"
    }
   }
  }
 ],
 "metadata": {
  "kernelspec": {
   "display_name": "Python 3",
   "language": "python",
   "name": "python3"
  },
  "language_info": {
   "codemirror_mode": {
    "name": "ipython",
    "version": 3
   },
   "file_extension": ".py",
   "mimetype": "text/x-python",
   "name": "python",
   "nbconvert_exporter": "python",
   "pygments_lexer": "ipython3",
   "version": "3.11.4"
  }
 },
 "nbformat": 4,
 "nbformat_minor": 0
}
