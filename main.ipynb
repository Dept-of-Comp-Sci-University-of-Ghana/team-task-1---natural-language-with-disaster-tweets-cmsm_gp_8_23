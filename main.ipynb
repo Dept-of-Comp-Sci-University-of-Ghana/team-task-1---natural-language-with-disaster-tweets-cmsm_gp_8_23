{
 "cells": [
  {
   "cell_type": "code",
   "execution_count": 2,
   "metadata": {},
   "outputs": [
    {
     "name": "stderr",
     "output_type": "stream",
     "text": [
      "[nltk_data] Downloading package punkt to\n",
      "[nltk_data]     /Users/veraachiaa/nltk_data...\n",
      "[nltk_data]   Package punkt is already up-to-date!\n",
      "[nltk_data] Downloading package stopwords to\n",
      "[nltk_data]     /Users/veraachiaa/nltk_data...\n",
      "[nltk_data]   Package stopwords is already up-to-date!\n"
     ]
    },
    {
     "data": {
      "text/plain": [
       "True"
      ]
     },
     "execution_count": 2,
     "metadata": {},
     "output_type": "execute_result"
    }
   ],
   "source": [
    "import numpy as np \n",
    "import pandas as pd\n",
    "from sklearn import model_selection\n",
    "import re\n",
    "from nltk.tokenize import word_tokenize\n",
    "from nltk.corpus import stopwords\n",
    "import nltk\n",
    "from sklearn.feature_extraction.text import TfidfVectorizer\n",
    "from sklearn.linear_model import LogisticRegression\n",
    "\n",
    "nltk.download('punkt')\n",
    "nltk.download('stopwords')"
   ]
  },
  {
   "cell_type": "code",
   "execution_count": 3,
   "metadata": {},
   "outputs": [],
   "source": [
    "train_data = pd.read_csv(\"Datasets/train.csv\")\n",
    "test_data = pd.read_csv(\"Datasets/test.csv\")\n",
    "\n",
    "tweets = train_data\n",
    "tweets.head()\n",
    "\n"
   ]
  },
  {
   "cell_type": "code",
   "execution_count": null,
   "metadata": {},
   "outputs": [],
   "source": [
    "tweets[\"keyword\"] = tweets[\"keyword\"].fillna(\"\")\n",
    "tweets[\"tweet\"] = tweets[\"keyword\"] + \" \" + tweets[\"text\"]\n",
    "tweets.sample(5, random_state=42)\n",
    "    \n",
    "tweets[\"tweet_lower\"] = tweets[\"tweet\"].str.lower()\n",
    "tweets[\"tweet_lower\"].sample(5, random_state=42)\n"
   ]
  },
  {
   "attachments": {},
   "cell_type": "markdown",
   "metadata": {},
   "source": [
    "Remove html"
   ]
  },
  {
   "cell_type": "code",
   "execution_count": null,
   "metadata": {},
   "outputs": [],
   "source": [
    "text = r\"&gt;&gt; $15 Aftershock : Protect Yourself and Profit in the Next Global Financial... ##book http://t.co/f6ntUc734Z esquireattire\"\n",
    "soup = BeautifulSoup(text)\n",
    "soup.get_text()\n",
    "def remove_html(text):\n",
    "    soup = BeautifulSoup(text)\n",
    "    text = soup.get_text()\n",
    "    return text\n",
    "tweets[\"tweet_noHTML\"] = tweets[\"tweet_lower\"].apply(remove_html)\n",
    "tweets[\"tweet_noHTML\"].sample(5, random_state=42)"
   ]
  },
  {
   "attachments": {},
   "cell_type": "markdown",
   "metadata": {},
   "source": [
    "Expand Contractions\n",
    "\n",
    "There are many contractions of words used in informal communication such as can't: can not, they've: they have or even modern contractions such as sux: sucks. In many cases, these contractions are considered as stopwords and are removed. There is a python package to expand such contractions conveniently named as contractions, which has collection of most of such contractions and can be used for expanding them as a preprocessing step\n"
   ]
  },
  {
   "cell_type": "code",
   "execution_count": null,
   "metadata": {},
   "outputs": [],
   "source": [
    "!pip install contractions\n",
    "import contractions\n",
    "\n",
    "tweets[\"tweet_noContractions\"] = tweets[\"tweet_noHTML\"].apply(contractions.fix)\n",
    "tweets[\"tweet_noContractions\"].sample(5, random_state=42)"
   ]
  },
  {
   "attachments": {},
   "cell_type": "markdown",
   "metadata": {},
   "source": [
    "Remove urls"
   ]
  },
  {
   "cell_type": "code",
   "execution_count": null,
   "metadata": {},
   "outputs": [],
   "source": [
    "def remove_urls(text):\n",
    "    pattern = re.compile(r'https?://(www\\.)?(\\w+)(\\.\\w+)(/\\w*)?')\n",
    "    text = re.sub(pattern, \"\", text)\n",
    "    return text\n",
    "tweets[\"tweet_noURLs\"] = tweets[\"tweet_noContractions\"].apply(remove_urls)\n",
    "tweets[\"tweet_noURLs\"].sample(5, random_state=42)"
   ]
  },
  {
   "attachments": {},
   "cell_type": "markdown",
   "metadata": {},
   "source": [
    "Remove E-mail IDs"
   ]
  },
  {
   "cell_type": "code",
   "execution_count": null,
   "metadata": {},
   "outputs": [],
   "source": [
    "def remove_emails(text):\n",
    "    pattern = re.compile(r\"[\\w\\.-]+@[\\w\\.-]+\\.\\w+\")\n",
    "    text = re.sub(pattern, \"\", text)\n",
    "    return text\n",
    "tweets[\"tweet_noEmail\"] = tweets[\"tweet_noURLs\"].apply(remove_emails)\n",
    "tweets[\"tweet_noEmail\"].sample(5, random_state=42)"
   ]
  },
  {
   "attachments": {},
   "cell_type": "markdown",
   "metadata": {},
   "source": [
    "Remove tweet mention"
   ]
  },
  {
   "cell_type": "code",
   "execution_count": null,
   "metadata": {},
   "outputs": [],
   "source": [
    "def remove_mentions(text):\n",
    "    pattern = re.compile(r\"@\\w+\")\n",
    "    text = re.sub(pattern, \"\", text)\n",
    "    return text\n",
    "tweets[\"tweet_noMention\"] = tweets[\"tweet_noEmail\"].apply(remove_mentions)\n",
    "tweets[\"tweet_noMention\"].sample(5, random_state=42)"
   ]
  },
  {
   "attachments": {},
   "cell_type": "markdown",
   "metadata": {},
   "source": [
    "Handling Emojis"
   ]
  },
  {
   "cell_type": "code",
   "execution_count": null,
   "metadata": {},
   "outputs": [],
   "source": [
    "!pip install unidecode\n",
    "from unidecode import unidecode\n",
    "def handle_accents(text):\n",
    "    text = unidecode(text)\n",
    "    return text\n",
    "tweets[\"tweet_handleAccents\"] = tweets[\"tweet_noMention\"].apply(handle_accents)\n",
    "tweets[\"tweet_handleAccents\"].sample(5, random_state=42)\n",
    "def remove_unicode_chars(text):\n",
    "    text = text.encode(\"ascii\", \"ignore\").decode()\n",
    "    return text\n",
    "#As mentioned before, the accented characters are removed by this step\n",
    "tweets[\"tweet_noUnicode\"] = tweets[\"tweet_noMention\"].apply(remove_unicode_chars)\n",
    "tweets[\"tweet_noUnicode\"].sample(5, random_state=42)"
   ]
  },
  {
   "attachments": {},
   "cell_type": "markdown",
   "metadata": {},
   "source": []
  },
  {
   "cell_type": "code",
   "execution_count": null,
   "metadata": {},
   "outputs": [
    {
     "data": {
      "text/html": [
       "<div>\n",
       "<style scoped>\n",
       "    .dataframe tbody tr th:only-of-type {\n",
       "        vertical-align: middle;\n",
       "    }\n",
       "\n",
       "    .dataframe tbody tr th {\n",
       "        vertical-align: top;\n",
       "    }\n",
       "\n",
       "    .dataframe thead th {\n",
       "        text-align: right;\n",
       "    }\n",
       "</style>\n",
       "<table border=\"1\" class=\"dataframe\">\n",
       "  <thead>\n",
       "    <tr style=\"text-align: right;\">\n",
       "      <th></th>\n",
       "      <th>id</th>\n",
       "      <th>keyword</th>\n",
       "      <th>location</th>\n",
       "      <th>text</th>\n",
       "      <th>target</th>\n",
       "    </tr>\n",
       "  </thead>\n",
       "  <tbody>\n",
       "    <tr>\n",
       "      <th>0</th>\n",
       "      <td>1</td>\n",
       "      <td>NaN</td>\n",
       "      <td>NaN</td>\n",
       "      <td>Deeds Reason May ALLAH Forgive us</td>\n",
       "      <td>1</td>\n",
       "    </tr>\n",
       "    <tr>\n",
       "      <th>1</th>\n",
       "      <td>4</td>\n",
       "      <td>NaN</td>\n",
       "      <td>NaN</td>\n",
       "      <td>Forest fire near La Ronge Sask . Canada</td>\n",
       "      <td>1</td>\n",
       "    </tr>\n",
       "    <tr>\n",
       "      <th>2</th>\n",
       "      <td>5</td>\n",
       "      <td>NaN</td>\n",
       "      <td>NaN</td>\n",
       "      <td>residents asked 'shelter place ' notified offi...</td>\n",
       "      <td>1</td>\n",
       "    </tr>\n",
       "    <tr>\n",
       "      <th>3</th>\n",
       "      <td>6</td>\n",
       "      <td>NaN</td>\n",
       "      <td>NaN</td>\n",
       "      <td>13,000 people receive evacuation orders Califo...</td>\n",
       "      <td>1</td>\n",
       "    </tr>\n",
       "    <tr>\n",
       "      <th>4</th>\n",
       "      <td>7</td>\n",
       "      <td>NaN</td>\n",
       "      <td>NaN</td>\n",
       "      <td>got sent photo Ruby smoke pours school</td>\n",
       "      <td>1</td>\n",
       "    </tr>\n",
       "  </tbody>\n",
       "</table>\n",
       "</div>"
      ],
      "text/plain": [
       "   id keyword location                                               text  \\\n",
       "0   1     NaN      NaN                  Deeds Reason May ALLAH Forgive us   \n",
       "1   4     NaN      NaN            Forest fire near La Ronge Sask . Canada   \n",
       "2   5     NaN      NaN  residents asked 'shelter place ' notified offi...   \n",
       "3   6     NaN      NaN  13,000 people receive evacuation orders Califo...   \n",
       "4   7     NaN      NaN             got sent photo Ruby smoke pours school   \n",
       "\n",
       "   target  \n",
       "0       1  \n",
       "1       1  \n",
       "2       1  \n",
       "3       1  \n",
       "4       1  "
      ]
     },
     "execution_count": 4,
     "metadata": {},
     "output_type": "execute_result"
    }
   ],
   "source": [
    "tweets.head()"
   ]
  },
  {
   "cell_type": "code",
   "execution_count": null,
   "metadata": {},
   "outputs": [],
   "source": [
    "# Taining and Testing\n",
    "X = tweets['text']\n",
    "y = tweets['target']\n",
    "\n",
    "X_train, X_test, y_train, y_test = model_selection.train_test_split(X, y, test_size=0.2, random_state=42)\n",
    "\n",
    "# Using TF-IDF vectorizer to convert text into numerical features\n",
    "vectorizer = TfidfVectorizer()\n",
    "X_train_tfidf = vectorizer.fit_transform(X_train)\n",
    "\n",
    "#Logistics Regression\n",
    "model = LogisticRegression()\n",
    "\n",
    "# Train the model\n",
    "model.fit(X_train_tfidf, y_train)\n",
    "\n",
    "X_test = test_data['text']\n",
    "X_test_tfidf = vectorizer.transform(X_test)\n",
    "\n",
    "# Making predictions on the test set\n",
    "predictions = model.predict(X_test_tfidf)\n",
    "\n",
    "test_data['prediction'] = predictions\n",
    "\n",
    "\n",
    "# Print the predictions\n",
    "print(test_data[['text', 'prediction']])\n",
    "test_data.to_csv('test_predictions.csv', index=False)"
   ]
  }
 ],
 "metadata": {
  "kernelspec": {
   "display_name": "Python 3",
   "language": "python",
   "name": "python3"
  },
  "language_info": {
   "codemirror_mode": {
    "name": "ipython",
    "version": 3
   },
   "file_extension": ".py",
   "mimetype": "text/x-python",
   "name": "python",
   "nbconvert_exporter": "python",
   "pygments_lexer": "ipython3",
   "version": "3.11.4"
  }
 },
 "nbformat": 4,
 "nbformat_minor": 0
}
